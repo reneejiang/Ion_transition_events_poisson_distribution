{
  "nbformat": 4,
  "nbformat_minor": 0,
  "metadata": {
    "colab": {
      "name": "myPiezo_ion_transition_uncertanities.ipynb",
      "provenance": [],
      "authorship_tag": "ABX9TyNjGKYUYd/irm95zzrKNgnS",
      "include_colab_link": true
    },
    "kernelspec": {
      "name": "python3",
      "display_name": "Python 3"
    }
  },
  "cells": [
    {
      "cell_type": "markdown",
      "metadata": {
        "id": "view-in-github",
        "colab_type": "text"
      },
      "source": [
        "<a href=\"https://colab.research.google.com/github/reneejiang/Ion_transition_events_poisson_distribution/blob/master/Ion_transition_uncertanities.ipynb\" target=\"_parent\"><img src=\"https://colab.research.google.com/assets/colab-badge.svg\" alt=\"Open In Colab\"/></a>"
      ]
    },
    {
      "cell_type": "code",
      "metadata": {
        "id": "6dZczS8J3fjj",
        "colab_type": "code",
        "colab": {
          "base_uri": "https://localhost:8080/",
          "height": 51
        },
        "outputId": "2915fb14-9985-49a4-bb4e-13bbd41cb864"
      },
      "source": [
        "import numpy as np\n",
        "import scipy as sp\n",
        "import pandas as pd\n",
        "import matplotlib\n",
        "from matplotlib import pyplot as plt\n",
        "import seaborn as sns\n",
        "\n",
        "import sys\n",
        "import os\n",
        "import tqdm\n",
        "import gc\n",
        "import copy\n",
        "\n",
        "from collections import defaultdict\n",
        "import itertools\n",
        "\n",
        "import plotly as ply\n",
        "ply.io.renderers.default=\"notebook\"\n",
        "\n",
        "import ipywidgets as widgets\n",
        "from ipywidgets import interact\n",
        "\n",
        "import gspread\n",
        "import pandas as pd\n",
        "from google.colab import auth\n",
        "from oauth2client.client import GoogleCredentials\n",
        "\n",
        "import gspread\n",
        "import pandas as pd\n",
        "from google.colab import auth\n",
        "from oauth2client.client import GoogleCredentials"
      ],
      "execution_count": 2,
      "outputs": [
        {
          "output_type": "stream",
          "text": [
            "/usr/local/lib/python3.6/dist-packages/statsmodels/tools/_testing.py:19: FutureWarning: pandas.util.testing is deprecated. Use the functions in the public API at pandas.testing instead.\n",
            "  import pandas.util.testing as tm\n"
          ],
          "name": "stderr"
        }
      ]
    },
    {
      "cell_type": "code",
      "metadata": {
        "id": "9SLkw5b0af3Z",
        "colab_type": "code",
        "colab": {}
      },
      "source": [
        "def lR_interval(X,alpha,verbose=False):\n",
        "  nX=len(X)\n",
        "  theta0=np.sum(X)*1.\n",
        "  l0=sp.stats.poisson.logpmf(theta0,theta0)\n",
        "  chiCut=sp.stats.chi2.ppf(1-alpha,1)\n",
        "  if theta0 > 0:\n",
        "    min_theta=sp.optimize.root(\n",
        "        lambda theta: 2*(l0-sp.stats.poisson.logpmf(theta0,*theta))-chiCut,\n",
        "        x0=[theta0/2.]).x[0]/nX\n",
        "  else:\n",
        "    min_theta=0\n",
        "  max_theta=sp.optimize.root(\n",
        "      lambda theta: 2*(l0-sp.stats.poisson.logpmf(theta0,*theta))-chiCut,\n",
        "      x0=[theta0*2.]).x[0]/nX\n",
        "  if verbose:\n",
        "    print('nX:',nX,'; theta0:',theta0,'; chiCut:',chiCut,'; l0:',l0)\n",
        "  return(min_theta,max_theta)\n"
      ],
      "execution_count": 3,
      "outputs": []
    },
    {
      "cell_type": "code",
      "metadata": {
        "colab_type": "code",
        "id": "xz_asO8KaiF1",
        "colab": {
          "base_uri": "https://localhost:8080/",
          "height": 85
        },
        "outputId": "1893ff79-cf2e-4b3f-bd26-ec3435ce0906"
      },
      "source": [
        "\n",
        "########## POT ions for WT PIEZO##########\n",
        "nSdata={\n",
        "  'S2':np.array([10]) , # -500mV\n",
        "  'S3':np.array([3]) , # -250mV\n",
        "  'S4':np.array([7]) , #  250mV\n",
        "  'S5':np.array([18])  #  500mV\n",
        "}\n",
        "# nSamples= number of trials\n",
        "\n",
        "aVal=0.15\n",
        "\n",
        "for sampleSizes in nSdata.keys():\n",
        "  #print(sampleSizes)\n",
        "  min,max=lR_interval(nSdata[sampleSizes],aVal)\n",
        "  print(min,max)\n",
        "\n",
        "#### Total time = 100ns ######"
      ],
      "execution_count": 4,
      "outputs": [
        {
          "output_type": "stream",
          "text": [
            "6.110719125719011 15.26761118060743\n",
            "1.1440732045120607 6.226947107104711\n",
            "3.848452841136542 11.528525451059863\n",
            "12.56290403028872 24.816832630189097\n"
          ],
          "name": "stdout"
        }
      ]
    },
    {
      "cell_type": "code",
      "metadata": {
        "colab_type": "code",
        "id": "adGYe30zqhxy",
        "colab": {
          "base_uri": "https://localhost:8080/",
          "height": 85
        },
        "outputId": "67433f35-bec9-4ad2-e78a-f9e848bd138c"
      },
      "source": [
        "\n",
        "\n",
        "########## CLA ions for WT PIEZO ##########\n",
        "nSdata={\n",
        "  'S2':np.array([2]) , # -500mV\n",
        "  'S3':np.array([0]) , # -250mV\n",
        "  'S4':np.array([8]) , #  250mV\n",
        "  'S5':np.array([9])   #  500mV\n",
        "}\n",
        "# nSamples= number of trials\n",
        "\n",
        "aVal=0.15\n",
        "\n",
        "for sampleSizes in nSdata.keys():\n",
        "  #print(sampleSizes)\n",
        "  min,max=lR_interval(nSdata[sampleSizes],aVal)\n",
        "  print(min,max)\n",
        "\n",
        "#### Total time = 100ns ######\n"
      ],
      "execution_count": 5,
      "outputs": [
        {
          "output_type": "stream",
          "text": [
            "0.5880939554478396 4.777785286825871\n",
            "0 1.0361254279110965\n",
            "4.587802762771917 12.78973837247192\n",
            "5.342722613214181 14.035256779742411\n"
          ],
          "name": "stdout"
        }
      ]
    },
    {
      "cell_type": "code",
      "metadata": {
        "id": "is5QLq0CO2A4",
        "colab_type": "code",
        "colab": {
          "base_uri": "https://localhost:8080/",
          "height": 34
        },
        "outputId": "f70931ce-471d-4202-8e79-31b66a77085b"
      },
      "source": [
        "\n",
        "########## POT ions for Mutant E2133 nocharge PIEZO##########\n",
        "nSdata={\n",
        "     'S2':np.array([9]) , # -500mV mutant\n",
        "}\n",
        "\n",
        "# nSamples= number of trials\n",
        "\n",
        "aVal=0.15\n",
        "\n",
        "for sampleSizes in nSdata.keys():\n",
        "  #print(sampleSizes)\n",
        "  min,max=lR_interval(nSdata[sampleSizes],aVal)\n",
        "  print(min,max)\n",
        "\n",
        "\n",
        "#### Total time = 150ns ######"
      ],
      "execution_count": 6,
      "outputs": [
        {
          "output_type": "stream",
          "text": [
            "5.342722613214181 14.035256779742411\n"
          ],
          "name": "stdout"
        }
      ]
    },
    {
      "cell_type": "code",
      "metadata": {
        "id": "N48e87a6mKCt",
        "colab_type": "code",
        "colab": {
          "base_uri": "https://localhost:8080/",
          "height": 34
        },
        "outputId": "c144c01f-47e7-4e82-d21b-0ff798a4206a"
      },
      "source": [
        "\n",
        "########## CLA ions for Mutant E2133 nocharge PIEZO##########\n",
        "nSdata={\n",
        "  'S2':np.array([2]) , # -500mV mutant\n",
        "}\n",
        "# nSamples= number of trials\n",
        "\n",
        "aVal=0.15\n",
        "\n",
        "for sampleSizes in nSdata.keys():\n",
        "  #print(sampleSizes)\n",
        "  min,max=lR_interval(nSdata[sampleSizes],aVal)\n",
        "  print(min,max)\n",
        "\n",
        "  \n",
        "#### Total time = 150ns ######"
      ],
      "execution_count": 11,
      "outputs": [
        {
          "output_type": "stream",
          "text": [
            "0.5880939554478396 4.777785286825871\n"
          ],
          "name": "stdout"
        }
      ]
    },
    {
      "cell_type": "code",
      "metadata": {
        "id": "9j-LRooVmXQ1",
        "colab_type": "code",
        "colab": {
          "base_uri": "https://localhost:8080/",
          "height": 34
        },
        "outputId": "d147ded1-5144-4157-9b44-7f7dee478e19"
      },
      "source": [
        "\n",
        "########## POT ions for WT PIEZO##########\n",
        "nSdata={\n",
        "  'S2':np.array([10]) , # -500mV WT\n",
        "}\n",
        "# nSamples= number of trials\n",
        "\n",
        "aVal=0.15\n",
        "\n",
        "for sampleSizes in nSdata.keys():\n",
        "  #print(sampleSizes)\n",
        "  min,max=lR_interval(nSdata[sampleSizes],aVal)\n",
        "  print(min,max)\n",
        "\n",
        "  \n",
        "#### Total time = 100ns ######\n"
      ],
      "execution_count": 7,
      "outputs": [
        {
          "output_type": "stream",
          "text": [
            "6.110719125719011 15.26761118060743\n"
          ],
          "name": "stdout"
        }
      ]
    },
    {
      "cell_type": "code",
      "metadata": {
        "id": "yUubYykpjjmK",
        "colab_type": "code",
        "colab": {
          "base_uri": "https://localhost:8080/",
          "height": 34
        },
        "outputId": "fe00c69b-b920-454e-e2fd-338f5ebdc5f2"
      },
      "source": [
        "\n",
        "########## CLA ions for WT PIEZO##########\n",
        "nSdata={\n",
        "  'S2':np.array([2])  # -500mV\n",
        "}\n",
        "# nSamples= number of trials\n",
        "\n",
        "aVal=0.15\n",
        "\n",
        "for sampleSizes in nSdata.keys():\n",
        "  #print(sampleSizes)\n",
        "  min,max=lR_interval(nSdata[sampleSizes],aVal)\n",
        "  print(min,max)\n",
        "\n",
        "  \n",
        "#### Total time = 100ns ######"
      ],
      "execution_count": 11,
      "outputs": [
        {
          "output_type": "stream",
          "text": [
            "0.5880939554478396 4.777785286825871\n"
          ],
          "name": "stdout"
        }
      ]
    },
    {
      "cell_type": "code",
      "metadata": {
        "id": "lsORsEfSjtUC",
        "colab_type": "code",
        "colab": {}
      },
      "source": [
        ""
      ],
      "execution_count": null,
      "outputs": []
    }
  ]
}