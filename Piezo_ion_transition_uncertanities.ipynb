{
  "nbformat": 4,
  "nbformat_minor": 0,
  "metadata": {
    "colab": {
      "name": "myPiezo_ion_transition_uncertanities.ipynb",
      "provenance": [],
      "authorship_tag": "ABX9TyPE2YFCo63CNfKIvej9AOs2",
      "include_colab_link": true
    },
    "kernelspec": {
      "name": "python3",
      "display_name": "Python 3"
    }
  },
  "cells": [
    {
      "cell_type": "markdown",
      "metadata": {
        "id": "view-in-github",
        "colab_type": "text"
      },
      "source": [
        "<a href=\"https://colab.research.google.com/github/reneejiang/Ion_transition_events_poisson_distribution/blob/master/Piezo_ion_transition_uncertanities.ipynb\" target=\"_parent\"><img src=\"https://colab.research.google.com/assets/colab-badge.svg\" alt=\"Open In Colab\"/></a>"
      ]
    },
    {
      "cell_type": "code",
      "metadata": {
        "id": "6dZczS8J3fjj",
        "colab_type": "code",
        "colab": {}
      },
      "source": [
        "import numpy as np\n",
        "import scipy as sp\n",
        "import pandas as pd\n",
        "import matplotlib\n",
        "from matplotlib import pyplot as plt\n",
        "import seaborn as sns\n",
        "\n",
        "import sys\n",
        "import os\n",
        "import tqdm\n",
        "import gc\n",
        "import copy\n",
        "\n",
        "from collections import defaultdict\n",
        "import itertools\n",
        "\n",
        "import plotly as ply\n",
        "ply.io.renderers.default=\"notebook\"\n",
        "\n",
        "import ipywidgets as widgets\n",
        "from ipywidgets import interact\n",
        "\n",
        "import gspread\n",
        "import pandas as pd\n",
        "from google.colab import auth\n",
        "from oauth2client.client import GoogleCredentials\n",
        "\n",
        "import gspread\n",
        "import pandas as pd\n",
        "from google.colab import auth\n",
        "from oauth2client.client import GoogleCredentials"
      ],
      "execution_count": 28,
      "outputs": []
    },
    {
      "cell_type": "code",
      "metadata": {
        "id": "9SLkw5b0af3Z",
        "colab_type": "code",
        "colab": {}
      },
      "source": [
        "def lR_interval(X,alpha,verbose=False):\n",
        "  nX=len(X)\n",
        "  theta0=np.sum(X)*1.\n",
        "  l0=sp.stats.poisson.logpmf(theta0,theta0)\n",
        "  chiCut=sp.stats.chi2.ppf(1-alpha,1)\n",
        "  if theta0 > 0:\n",
        "    min_theta=sp.optimize.root(\n",
        "        lambda theta: 2*(l0-sp.stats.poisson.logpmf(theta0,*theta))-chiCut,\n",
        "        x0=[theta0/2.]).x[0]/nX\n",
        "  else:\n",
        "    min_theta=0\n",
        "  max_theta=sp.optimize.root(\n",
        "      lambda theta: 2*(l0-sp.stats.poisson.logpmf(theta0,*theta))-chiCut,\n",
        "      x0=[theta0*2.]).x[0]/nX\n",
        "  if verbose:\n",
        "    print('nX:',nX,'; theta0:',theta0,'; chiCut:',chiCut,'; l0:',l0)\n",
        "  return(min_theta,max_theta)\n"
      ],
      "execution_count": 29,
      "outputs": []
    },
    {
      "cell_type": "code",
      "metadata": {
        "colab_type": "code",
        "id": "xz_asO8KaiF1",
        "colab": {
          "base_uri": "https://localhost:8080/",
          "height": 85
        },
        "outputId": "5fc516f5-12da-4337-dc3c-395e16188344"
      },
      "source": [
        "\n",
        "########## POT ions for WT PIEZO##########\n",
        "nSdata={\n",
        "  'S2':np.array([8,1]) , # -500mV\n",
        "  'S3':np.array([1,3]) , # -250mV\n",
        "  'S4':np.array([5,2]) , #  250mV\n",
        "  'S5':np.array([13,5])  #  500mV\n",
        "}\n",
        "# nSamples= number of trials\n",
        "\n",
        "aVal=0.15\n",
        "\n",
        "for sampleSizes in nSdata.keys():\n",
        "  #print(sampleSizes)\n",
        "  min,max=lR_interval(nSdata[sampleSizes],aVal)\n",
        "  print(min,max)\n"
      ],
      "execution_count": 30,
      "outputs": [
        {
          "output_type": "stream",
          "text": [
            "2.6713613066070905 7.017628389871206\n",
            "0.8830725772847483 3.803735654415513\n",
            "1.924226420568271 5.764262725529932\n",
            "6.28145201514436 12.408416315094549\n"
          ],
          "name": "stdout"
        }
      ]
    },
    {
      "cell_type": "code",
      "metadata": {
        "colab_type": "code",
        "id": "adGYe30zqhxy",
        "colab": {
          "base_uri": "https://localhost:8080/",
          "height": 85
        },
        "outputId": "c825ea17-b161-4230-ae9b-b2f2b7fc4635"
      },
      "source": [
        "\n",
        "\n",
        "########## CLA ions for WT PIEZO ##########\n",
        "nSdata={\n",
        "  'S2':np.array([2,0]) , # -500mV\n",
        "  'S3':np.array([0,0]) , # -250mV\n",
        "  'S4':np.array([5,3]) , #  250mV\n",
        "  'S5':np.array([7,2])   #  500mV\n",
        "}\n",
        "# nSamples= number of trials\n",
        "\n",
        "aVal=0.15\n",
        "\n",
        "for sampleSizes in nSdata.keys():\n",
        "  #print(sampleSizes)\n",
        "  min,max=lR_interval(nSdata[sampleSizes],aVal)\n",
        "  print(min,max)\n",
        "\n"
      ],
      "execution_count": 31,
      "outputs": [
        {
          "output_type": "stream",
          "text": [
            "0.2940469777239198 2.3888926434129356\n",
            "0 0.5180627139555483\n",
            "2.2939013813859583 6.39486918623596\n",
            "2.6713613066070905 7.017628389871206\n"
          ],
          "name": "stdout"
        }
      ]
    },
    {
      "cell_type": "code",
      "metadata": {
        "id": "is5QLq0CO2A4",
        "colab_type": "code",
        "colab": {
          "base_uri": "https://localhost:8080/",
          "height": 34
        },
        "outputId": "04494d2e-cc83-4886-9c84-140535969548"
      },
      "source": [
        "\n",
        "########## POT ions for Mutant E2133 nocharge PIEZO##########\n",
        "nSdata={\n",
        "     'S2':np.array([6,3,3]) , # -500mV mutant\n",
        "}\n",
        "\n",
        "# nSamples= number of trials\n",
        "\n",
        "aVal=0.15\n",
        "\n",
        "for sampleSizes in nSdata.keys():\n",
        "  #print(sampleSizes)\n",
        "  min,max=lR_interval(nSdata[sampleSizes],aVal)\n",
        "  print(min,max)\n",
        "\n"
      ],
      "execution_count": 32,
      "outputs": [
        {
          "output_type": "stream",
          "text": [
            "2.5595970087875224 5.900022052884363\n"
          ],
          "name": "stdout"
        }
      ]
    },
    {
      "cell_type": "code",
      "metadata": {
        "id": "N48e87a6mKCt",
        "colab_type": "code",
        "colab": {
          "base_uri": "https://localhost:8080/",
          "height": 34
        },
        "outputId": "ce4ad6ad-8db8-4973-d401-051678ab80a4"
      },
      "source": [
        "\n",
        "########## POT ions for Mutant E2133 nocharge PIEZO##########\n",
        "nSdata={\n",
        "  'S2':np.array([2,0,0]) , # -500mV mutant\n",
        "}\n",
        "# nSamples= number of trials\n",
        "\n",
        "aVal=0.15\n",
        "\n",
        "for sampleSizes in nSdata.keys():\n",
        "  #print(sampleSizes)\n",
        "  min,max=lR_interval(nSdata[sampleSizes],aVal)\n",
        "  print(min,max)"
      ],
      "execution_count": 33,
      "outputs": [
        {
          "output_type": "stream",
          "text": [
            "0.1960313184826132 1.5925950956086237\n"
          ],
          "name": "stdout"
        }
      ]
    },
    {
      "cell_type": "code",
      "metadata": {
        "id": "9j-LRooVmXQ1",
        "colab_type": "code",
        "colab": {
          "base_uri": "https://localhost:8080/",
          "height": 34
        },
        "outputId": "f2fac8b0-5459-4401-884b-306f49ed6b61"
      },
      "source": [
        "\n",
        "########## POT ions for WT PIEZO##########\n",
        "nSdata={\n",
        "  'S2':np.array([8,1]) , # -500mV WT\n",
        "}\n",
        "# nSamples= number of trials\n",
        "\n",
        "aVal=0.15\n",
        "\n",
        "for sampleSizes in nSdata.keys():\n",
        "  #print(sampleSizes)\n",
        "  min,max=lR_interval(nSdata[sampleSizes],aVal)\n",
        "  print(min,max)\n"
      ],
      "execution_count": 34,
      "outputs": [
        {
          "output_type": "stream",
          "text": [
            "2.6713613066070905 7.017628389871206\n"
          ],
          "name": "stdout"
        }
      ]
    },
    {
      "cell_type": "code",
      "metadata": {
        "id": "yUubYykpjjmK",
        "colab_type": "code",
        "colab": {
          "base_uri": "https://localhost:8080/",
          "height": 34
        },
        "outputId": "ce39ab6c-73bc-4c29-beae-bff757087ebc"
      },
      "source": [
        "\n",
        "########## CLA ions for WT PIEZO##########\n",
        "nSdata={\n",
        "  'S2':np.array([2,0])  # -500mV\n",
        "}\n",
        "# nSamples= number of trials\n",
        "\n",
        "aVal=0.15\n",
        "\n",
        "for sampleSizes in nSdata.keys():\n",
        "  #print(sampleSizes)\n",
        "  min,max=lR_interval(nSdata[sampleSizes],aVal)\n",
        "  print(min,max)"
      ],
      "execution_count": 35,
      "outputs": [
        {
          "output_type": "stream",
          "text": [
            "0.2940469777239198 2.3888926434129356\n"
          ],
          "name": "stdout"
        }
      ]
    },
    {
      "cell_type": "code",
      "metadata": {
        "id": "lsORsEfSjtUC",
        "colab_type": "code",
        "colab": {}
      },
      "source": [
        ""
      ],
      "execution_count": null,
      "outputs": []
    }
  ]
}