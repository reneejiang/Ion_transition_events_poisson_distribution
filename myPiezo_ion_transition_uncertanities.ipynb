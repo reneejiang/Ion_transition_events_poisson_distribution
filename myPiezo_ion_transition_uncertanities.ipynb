{
  "nbformat": 4,
  "nbformat_minor": 0,
  "metadata": {
    "colab": {
      "name": "myPiezo_ion_transition_uncertanities.ipynb",
      "provenance": [],
      "authorship_tag": "ABX9TyMlEnqojakBXA/fR3J5YYRg",
      "include_colab_link": true
    },
    "kernelspec": {
      "name": "python3",
      "display_name": "Python 3"
    },
    "widgets": {
      "application/vnd.jupyter.widget-state+json": {
        "69a42e30d78d4d5e8ebe9e8419b55959": {
          "model_module": "@jupyter-widgets/controls",
          "model_name": "HBoxModel",
          "state": {
            "_view_name": "HBoxView",
            "_dom_classes": [],
            "_model_name": "HBoxModel",
            "_view_module": "@jupyter-widgets/controls",
            "_model_module_version": "1.5.0",
            "_view_count": null,
            "_view_module_version": "1.5.0",
            "box_style": "",
            "layout": "IPY_MODEL_bfd9b67a970f4c6687a9ca017d99d8d7",
            "_model_module": "@jupyter-widgets/controls",
            "children": [
              "IPY_MODEL_a64064cc4b9f4d9bbfe947410c47aa72",
              "IPY_MODEL_109ac94a9dee4100a52ffec589408e22"
            ]
          }
        },
        "bfd9b67a970f4c6687a9ca017d99d8d7": {
          "model_module": "@jupyter-widgets/base",
          "model_name": "LayoutModel",
          "state": {
            "_view_name": "LayoutView",
            "grid_template_rows": null,
            "right": null,
            "justify_content": null,
            "_view_module": "@jupyter-widgets/base",
            "overflow": null,
            "_model_module_version": "1.2.0",
            "_view_count": null,
            "flex_flow": null,
            "width": null,
            "min_width": null,
            "border": null,
            "align_items": null,
            "bottom": null,
            "_model_module": "@jupyter-widgets/base",
            "top": null,
            "grid_column": null,
            "overflow_y": null,
            "overflow_x": null,
            "grid_auto_flow": null,
            "grid_area": null,
            "grid_template_columns": null,
            "flex": null,
            "_model_name": "LayoutModel",
            "justify_items": null,
            "grid_row": null,
            "max_height": null,
            "align_content": null,
            "visibility": null,
            "align_self": null,
            "height": null,
            "min_height": null,
            "padding": null,
            "grid_auto_rows": null,
            "grid_gap": null,
            "max_width": null,
            "order": null,
            "_view_module_version": "1.2.0",
            "grid_template_areas": null,
            "object_position": null,
            "object_fit": null,
            "grid_auto_columns": null,
            "margin": null,
            "display": null,
            "left": null
          }
        },
        "a64064cc4b9f4d9bbfe947410c47aa72": {
          "model_module": "@jupyter-widgets/controls",
          "model_name": "FloatProgressModel",
          "state": {
            "_view_name": "ProgressView",
            "style": "IPY_MODEL_8d954d9376554979b68d76d924c79c88",
            "_dom_classes": [],
            "description": "computing lambda grid: 100%",
            "_model_name": "FloatProgressModel",
            "bar_style": "success",
            "max": 33,
            "_view_module": "@jupyter-widgets/controls",
            "_model_module_version": "1.5.0",
            "value": 33,
            "_view_count": null,
            "_view_module_version": "1.5.0",
            "orientation": "horizontal",
            "min": 0,
            "description_tooltip": null,
            "_model_module": "@jupyter-widgets/controls",
            "layout": "IPY_MODEL_c4299dea782049fe89ad36f3c61250dc"
          }
        },
        "109ac94a9dee4100a52ffec589408e22": {
          "model_module": "@jupyter-widgets/controls",
          "model_name": "HTMLModel",
          "state": {
            "_view_name": "HTMLView",
            "style": "IPY_MODEL_d82ef83248ae48e58ac11baa4af3a7b2",
            "_dom_classes": [],
            "description": "",
            "_model_name": "HTMLModel",
            "placeholder": "​",
            "_view_module": "@jupyter-widgets/controls",
            "_model_module_version": "1.5.0",
            "value": " 33/33 [00:00&lt;00:00, 352.26it/s]",
            "_view_count": null,
            "_view_module_version": "1.5.0",
            "description_tooltip": null,
            "_model_module": "@jupyter-widgets/controls",
            "layout": "IPY_MODEL_a38a42d69de147eb908a7c3348e6abfb"
          }
        },
        "8d954d9376554979b68d76d924c79c88": {
          "model_module": "@jupyter-widgets/controls",
          "model_name": "ProgressStyleModel",
          "state": {
            "_view_name": "StyleView",
            "_model_name": "ProgressStyleModel",
            "description_width": "initial",
            "_view_module": "@jupyter-widgets/base",
            "_model_module_version": "1.5.0",
            "_view_count": null,
            "_view_module_version": "1.2.0",
            "bar_color": null,
            "_model_module": "@jupyter-widgets/controls"
          }
        },
        "c4299dea782049fe89ad36f3c61250dc": {
          "model_module": "@jupyter-widgets/base",
          "model_name": "LayoutModel",
          "state": {
            "_view_name": "LayoutView",
            "grid_template_rows": null,
            "right": null,
            "justify_content": null,
            "_view_module": "@jupyter-widgets/base",
            "overflow": null,
            "_model_module_version": "1.2.0",
            "_view_count": null,
            "flex_flow": null,
            "width": null,
            "min_width": null,
            "border": null,
            "align_items": null,
            "bottom": null,
            "_model_module": "@jupyter-widgets/base",
            "top": null,
            "grid_column": null,
            "overflow_y": null,
            "overflow_x": null,
            "grid_auto_flow": null,
            "grid_area": null,
            "grid_template_columns": null,
            "flex": null,
            "_model_name": "LayoutModel",
            "justify_items": null,
            "grid_row": null,
            "max_height": null,
            "align_content": null,
            "visibility": null,
            "align_self": null,
            "height": null,
            "min_height": null,
            "padding": null,
            "grid_auto_rows": null,
            "grid_gap": null,
            "max_width": null,
            "order": null,
            "_view_module_version": "1.2.0",
            "grid_template_areas": null,
            "object_position": null,
            "object_fit": null,
            "grid_auto_columns": null,
            "margin": null,
            "display": null,
            "left": null
          }
        },
        "d82ef83248ae48e58ac11baa4af3a7b2": {
          "model_module": "@jupyter-widgets/controls",
          "model_name": "DescriptionStyleModel",
          "state": {
            "_view_name": "StyleView",
            "_model_name": "DescriptionStyleModel",
            "description_width": "",
            "_view_module": "@jupyter-widgets/base",
            "_model_module_version": "1.5.0",
            "_view_count": null,
            "_view_module_version": "1.2.0",
            "_model_module": "@jupyter-widgets/controls"
          }
        },
        "a38a42d69de147eb908a7c3348e6abfb": {
          "model_module": "@jupyter-widgets/base",
          "model_name": "LayoutModel",
          "state": {
            "_view_name": "LayoutView",
            "grid_template_rows": null,
            "right": null,
            "justify_content": null,
            "_view_module": "@jupyter-widgets/base",
            "overflow": null,
            "_model_module_version": "1.2.0",
            "_view_count": null,
            "flex_flow": null,
            "width": null,
            "min_width": null,
            "border": null,
            "align_items": null,
            "bottom": null,
            "_model_module": "@jupyter-widgets/base",
            "top": null,
            "grid_column": null,
            "overflow_y": null,
            "overflow_x": null,
            "grid_auto_flow": null,
            "grid_area": null,
            "grid_template_columns": null,
            "flex": null,
            "_model_name": "LayoutModel",
            "justify_items": null,
            "grid_row": null,
            "max_height": null,
            "align_content": null,
            "visibility": null,
            "align_self": null,
            "height": null,
            "min_height": null,
            "padding": null,
            "grid_auto_rows": null,
            "grid_gap": null,
            "max_width": null,
            "order": null,
            "_view_module_version": "1.2.0",
            "grid_template_areas": null,
            "object_position": null,
            "object_fit": null,
            "grid_auto_columns": null,
            "margin": null,
            "display": null,
            "left": null
          }
        }
      }
    }
  },
  "cells": [
    {
      "cell_type": "markdown",
      "metadata": {
        "id": "view-in-github",
        "colab_type": "text"
      },
      "source": [
        "<a href=\"https://colab.research.google.com/github/reneejiang/Ion_transition_events_poisson_distribution/blob/master/myPiezo_ion_transition_uncertanities.ipynb\" target=\"_parent\"><img src=\"https://colab.research.google.com/assets/colab-badge.svg\" alt=\"Open In Colab\"/></a>"
      ]
    },
    {
      "cell_type": "code",
      "metadata": {
        "id": "6dZczS8J3fjj",
        "colab_type": "code",
        "colab": {
          "base_uri": "https://localhost:8080/",
          "height": 51
        },
        "outputId": "d26c6d33-76af-496d-f0ef-dd7af67abfd6"
      },
      "source": [
        "import numpy as np\n",
        "import scipy as sp\n",
        "import pandas as pd\n",
        "import matplotlib\n",
        "from matplotlib import pyplot as plt\n",
        "import seaborn as sns\n",
        "\n",
        "import sys\n",
        "import os\n",
        "import tqdm\n",
        "import gc\n",
        "import copy\n",
        "\n",
        "from collections import defaultdict\n",
        "import itertools\n",
        "\n",
        "import plotly as ply\n",
        "ply.io.renderers.default=\"notebook\"\n",
        "\n",
        "import ipywidgets as widgets\n",
        "from ipywidgets import interact\n",
        "\n",
        "import gspread\n",
        "import pandas as pd\n",
        "from google.colab import auth\n",
        "from oauth2client.client import GoogleCredentials\n",
        "\n",
        "import gspread\n",
        "import pandas as pd\n",
        "from google.colab import auth\n",
        "from oauth2client.client import GoogleCredentials"
      ],
      "execution_count": 2,
      "outputs": [
        {
          "output_type": "stream",
          "text": [
            "/usr/local/lib/python3.6/dist-packages/statsmodels/tools/_testing.py:19: FutureWarning: pandas.util.testing is deprecated. Use the functions in the public API at pandas.testing instead.\n",
            "  import pandas.util.testing as tm\n"
          ],
          "name": "stderr"
        }
      ]
    },
    {
      "cell_type": "code",
      "metadata": {
        "id": "9dE2xxsV3jME",
        "colab_type": "code",
        "colab": {}
      },
      "source": [
        "!pip install --upgrade -q gspread"
      ],
      "execution_count": null,
      "outputs": []
    },
    {
      "cell_type": "code",
      "metadata": {
        "id": "KhRF5F2sEqGM",
        "colab_type": "code",
        "colab": {
          "base_uri": "https://localhost:8080/",
          "height": 136
        },
        "outputId": "a22a3a42-4b13-42ce-acdb-4ec821c27fb2"
      },
      "source": [
        "!pip install 'google-auth==1.7.2'"
      ],
      "execution_count": null,
      "outputs": [
        {
          "output_type": "stream",
          "text": [
            "Requirement already satisfied: google-auth==1.7.2 in /usr/local/lib/python3.6/dist-packages (1.7.2)\n",
            "Requirement already satisfied: six>=1.9.0 in /usr/local/lib/python3.6/dist-packages (from google-auth==1.7.2) (1.12.0)\n",
            "Requirement already satisfied: setuptools>=40.3.0 in /usr/local/lib/python3.6/dist-packages (from google-auth==1.7.2) (47.1.1)\n",
            "Requirement already satisfied: cachetools<3.2,>=2.0.0 in /usr/local/lib/python3.6/dist-packages (from google-auth==1.7.2) (3.1.1)\n",
            "Requirement already satisfied: rsa<4.1,>=3.1.4 in /usr/local/lib/python3.6/dist-packages (from google-auth==1.7.2) (4.0)\n",
            "Requirement already satisfied: pyasn1-modules>=0.2.1 in /usr/local/lib/python3.6/dist-packages (from google-auth==1.7.2) (0.2.8)\n",
            "Requirement already satisfied: pyasn1>=0.1.3 in /usr/local/lib/python3.6/dist-packages (from rsa<4.1,>=3.1.4->google-auth==1.7.2) (0.4.8)\n"
          ],
          "name": "stdout"
        }
      ]
    },
    {
      "cell_type": "code",
      "metadata": {
        "id": "GwHwLKP83s69",
        "colab_type": "code",
        "colab": {
          "base_uri": "https://localhost:8080/",
          "height": 34
        },
        "outputId": "3a68fa62-f243-477e-8598-6a80c45594b7"
      },
      "source": [
        "#auth.authenticate_user()\n",
        "#gc = gspread.authorize(GoogleCredentials.get_application_default())\n",
        "!pwd\n",
        "#worksheet = pd.read_csv('potTrans.csv')\n",
        "#worksheet"
      ],
      "execution_count": 1,
      "outputs": [
        {
          "output_type": "stream",
          "text": [
            "/content\n"
          ],
          "name": "stdout"
        }
      ]
    },
    {
      "cell_type": "code",
      "metadata": {
        "id": "-XO7PdE-37Wq",
        "colab_type": "code",
        "colab": {
          "base_uri": "https://localhost:8080/",
          "height": 484
        },
        "outputId": "146b20c7-ad1d-4484-eb42-a4e6aad3b915"
      },
      "source": [
        "muOpt=7.0\n",
        "muVals=muOpt*np.exp(np.linspace(-2,1,19))\n",
        "muVals=worksheet['time_ns']\n",
        "meanMu=np.mean(worksheet['time_ns'])\n",
        "l0=sp.stats.poisson.logpmf(int(muOpt),muOpt)\n",
        "sns.lineplot(muVals,sp.stats.poisson.logpmf(meanMu,muVals))\n",
        "chiCutVal=l0-3.84/2.0\n",
        "plt.hlines(y=chiCutVal,\n",
        "           xmin=np.min(muVals),xmax=np.max(muVals),\n",
        "           label='chiCutVal (%.2e)'%chiCutVal,color='r')\n",
        "plt.scatter(x=muOpt,y=l0,c='r',label='muOpt (%.2f,%.2e)'%(muOpt,l0))\n",
        "plt.legend()\n",
        "plt.show()\n",
        "muVals"
      ],
      "execution_count": null,
      "outputs": [
        {
          "output_type": "display_data",
          "data": {
            "image/png": "[encoded data removed]",
            "text/plain": [
              "<Figure size 432x288 with 1 Axes>"
            ]
          },
          "metadata": {
            "tags": [],
            "needs_background": "light"
          }
        },
        {
          "output_type": "execute_result",
          "data": {
            "text/plain": [
              "0      5.2\n",
              "1      6.7\n",
              "2     13.6\n",
              "3      3.1\n",
              "4      6.4\n",
              "      ... \n",
              "63     3.7\n",
              "64     2.3\n",
              "65    15.6\n",
              "66     7.1\n",
              "67     3.0\n",
              "Name: time_ns, Length: 68, dtype: float64"
            ]
          },
          "metadata": {
            "tags": []
          },
          "execution_count": 12
        }
      ]
    },
    {
      "cell_type": "code",
      "metadata": {
        "id": "fkfQt6BO30kF",
        "colab_type": "code",
        "colab": {}
      },
      "source": [
        "def lR_interval(X,alpha,verbose=False):\n",
        "  nX=len(X)\n",
        "  theta0=np.sum(X)*1.\n",
        "  l0=sp.stats.poisson.logpmf(theta0,theta0)\n",
        "  chiCut=sp.stats.chi2.ppf(1-alpha,1)\n",
        "  if theta0 > 0:\n",
        "    min_theta=sp.optimize.root(\n",
        "        lambda theta: 2*(l0-sp.stats.poisson.logpmf(theta0,*theta))-chiCut,\n",
        "        x0=[theta0/2.]).x[0]/nX\n",
        "  else:\n",
        "    min_theta=0\n",
        "  max_theta=sp.optimize.root(\n",
        "      lambda theta: 2*(l0-sp.stats.poisson.logpmf(theta0,*theta))-chiCut,\n",
        "      x0=[theta0*2.]).x[0]/nX\n",
        "  if verbose:\n",
        "    print('nX:',nX,'; theta0:',theta0,'; chiCut:',chiCut,'; l0:',l0)\n",
        "  return(min_theta,max_theta)\n"
      ],
      "execution_count": null,
      "outputs": []
    },
    {
      "cell_type": "code",
      "metadata": {
        "id": "WXW4lhqw2Sqz",
        "colab_type": "code",
        "colab": {
          "base_uri": "https://localhost:8080/",
          "height": 820
        },
        "outputId": "a67e9068-267e-4bc2-fb12-8992b26985a5"
      },
      "source": [
        "intervalData=[]\n",
        "estData=[]\n",
        "aVal=0.12\n",
        "trueLambda=0.16444\n",
        "nSamples=9\n",
        "nTests=1000\n",
        "for ii in np.arange(nTests):\n",
        "  tempDat=sp.stats.poisson(mu=trueLambda).rvs(size=nSamples)\n",
        "  intervalData.append(np.array(lR_interval(tempDat,aVal)))\n",
        "  estData.append(np.mean(tempDat))\n",
        "\n",
        "intervalData=np.array(intervalData)\n",
        "#print(intervalData)\n",
        "\n",
        "\n",
        "plt.scatter(estData,intervalData[:,0],c='b',marker='x',\n",
        "            alpha=.5,label='chi_lower')\n",
        "plt.scatter(estData,intervalData[:,1],c='b',marker='+',\n",
        "            alpha=.5,label='chi_upper')\n",
        "plt.plot([np.min(estData),np.max(estData)],\n",
        "         [trueLambda,trueLambda],c='r',label='True_Lambda')\n",
        "plt.xlabel('Mean of Sample')\n",
        "plt.ylabel(\"Confidence interval bound\")\n",
        "plt.legend()\n",
        "plt.show()\n",
        "print('chiCI bound success:',\n",
        "      np.mean((intervalData[:,0]<=trueLambda) * (intervalData[:,1]>=trueLambda)))\n",
        "\n",
        "plt.hist(intervalData[:,0],color='blue',alpha=.5,label='interval_lower')\n",
        "plt.scatter(x=trueLambda,y=0,c='red',label='true lambda')\n",
        "plt.legend()\n",
        "plt.xlabel('Confidence interval bound')\n",
        "plt.ylabel('Histogram Count')\n",
        "plt.show()\n",
        "\n",
        "plt.hist(intervalData[:,1],color='blue',alpha=.5,label='interval_upper')\n",
        "plt.scatter(x=trueLambda,y=0,c='red',label='true lambda')\n",
        "plt.legend()\n",
        "plt.xlabel('Confidence interval bound')\n",
        "plt.ylabel('Histogram Count')\n",
        "plt.show()"
      ],
      "execution_count": null,
      "outputs": [
        {
          "output_type": "display_data",
          "data": {
            "image/png": "[encoded data removed]",
            "text/plain": [
              "<Figure size 432x288 with 1 Axes>"
            ]
          },
          "metadata": {
            "tags": [],
            "needs_background": "light"
          }
        },
        {
          "output_type": "stream",
          "text": [
            "chiCI bound success: 0.721\n"
          ],
          "name": "stdout"
        },
        {
          "output_type": "display_data",
          "data": {
            "image/png": "[encoded data removed]",
            "text/plain": [
              "<Figure size 432x288 with 1 Axes>"
            ]
          },
          "metadata": {
            "tags": [],
            "needs_background": "light"
          }
        },
        {
          "output_type": "display_data",
          "data": {
            "image/png": "[encoded data removed]",
            "text/plain": [
              "<Figure size 432x288 with 1 Axes>"
            ]
          },
          "metadata": {
            "tags": [],
            "needs_background": "light"
          }
        }
      ]
    },
    {
      "cell_type": "code",
      "metadata": {
        "id": "1tvkr7TxOY7u",
        "colab_type": "code",
        "colab": {
          "base_uri": "https://localhost:8080/",
          "height": 296
        },
        "outputId": "bb5292d1-1b20-4664-f91b-25e6d3256fd4"
      },
      "source": [
        "plt.hist(estData,alpha=.5)\n",
        "plt.scatter(x=trueLambda,y=0,c='r',label='true lambda',s=32)\n",
        "plt.scatter(x=np.mean(estData),y=0,c='blue',label='Mean MLE lambda')\n",
        "plt.legend()\n",
        "plt.xlabel('Sample Mean')\n",
        "plt.ylabel('Histogram Count')\n",
        "plt.show()\n",
        "print('Mean MLE lambda =',np.mean(estData))\n",
        "#print(estData)"
      ],
      "execution_count": null,
      "outputs": [
        {
          "output_type": "display_data",
          "data": {
            "image/png": "[encoded data removed]",
            "text/plain": [
              "<Figure size 432x288 with 1 Axes>"
            ]
          },
          "metadata": {
            "tags": [],
            "needs_background": "light"
          }
        },
        {
          "output_type": "stream",
          "text": [
            "Mean MLE lambda = 0.16444444444444445\n"
          ],
          "name": "stdout"
        }
      ]
    },
    {
      "cell_type": "code",
      "metadata": {
        "id": "LX1fIUBBOLfI",
        "colab_type": "code",
        "colab": {
          "base_uri": "https://localhost:8080/",
          "height": 1000,
          "referenced_widgets": [
            "69a42e30d78d4d5e8ebe9e8419b55959",
            "bfd9b67a970f4c6687a9ca017d99d8d7",
            "a64064cc4b9f4d9bbfe947410c47aa72",
            "109ac94a9dee4100a52ffec589408e22",
            "8d954d9376554979b68d76d924c79c88",
            "c4299dea782049fe89ad36f3c61250dc",
            "d82ef83248ae48e58ac11baa4af3a7b2",
            "a38a42d69de147eb908a7c3348e6abfb"
          ]
        },
        "outputId": "538cc2cb-c389-4440-861e-702a24e4ca07"
      },
      "source": [
        "#sampleSizes=np.arange(16)+1\n",
        "alphaVals=np.array([.15,.1,.05,.025,.01,.005,.0025,.001,.0005,.00025,.0001])\n",
        "sampleSizes=np.array([17,16,13])\n",
        "#alphaVals=np.array([0.13])\n",
        "countGrid,alphaGrid=np.meshgrid(sampleSizes,alphaVals)\n",
        "gridShape=np.shape(countGrid)\n",
        "print(gridShape)\n",
        "lambdaMaxGrid=np.zeros(shape=gridShape)\n",
        "\n",
        "# nSamples= number of trials\n",
        "\n",
        "with tqdm.tqdm_notebook(\n",
        "      total=np.product(gridShape),\n",
        "      desc='computing lambda grid'\n",
        "    ) as pbar:\n",
        "  for ii in np.arange(gridShape[0]):\n",
        "    for jj in np.arange(gridShape[1]):\n",
        "      lambdaMaxGrid[ii,jj]=lR_interval(\n",
        "          np.zeros(countGrid[ii,jj]),\n",
        "          alphaGrid[ii,jj])[1]\n",
        "      pbar.update()\n",
        "\n",
        "lambdaData=pd.DataFrame({\n",
        "      \"nSamples\":countGrid.flatten(),\n",
        "      \"alpha\":alphaGrid.flatten(),\n",
        "      \"lambdaMax\":lambdaMaxGrid.flatten()\n",
        "  })\n",
        "sns.heatmap(data=lambdaData.set_index(['nSamples','alpha']))\n",
        "plt.show()\n",
        "\n",
        "plotData=lambdaData.query('alpha == 0.05')\n",
        "sns.lineplot(x=plotData.nSamples,y=plotData.lambdaMax)\n",
        "sns.scatterplot(x=plotData.nSamples,y=plotData.lambdaMax)\n",
        "sns.scatterplot(x=[plotData.query('nSamples==13').nSamples.to_numpy()[0]],\n",
        "                y=[plotData.query('nSamples==13').lambdaMax.to_numpy()[0]],\n",
        "                color=['red'],\n",
        "                label='(%g, %.2f)'%(3,plotData.query(\n",
        "                    'nSamples==13').lambdaMax.to_numpy()[0]))\n",
        "plt.title('alpha = %.3f, k_mean=0'%.05)\n",
        "plt.show()\n",
        "\n",
        "\n",
        "kSums=np.arange(14)\n",
        "ci_lowers=np.array(\n",
        "    [lR_interval(\n",
        "        np.concatenate([[kSum],[0]*2]),aVal)[0] \\\n",
        "     for kSum in kSums])\n",
        "sns.lineplot(kSums,ci_lowers)\n",
        "sns.scatterplot(kSums,ci_lowers,\n",
        "                label='H1 (Alternative) CI lower bound')\n",
        "plt.hlines(y=plotData.query('nSamples==13').lambdaMax.to_numpy()[0],\n",
        "           xmin=np.min(kSums),xmax=np.max(kSums),\n",
        "           color='red',\n",
        "           label='H0 (Null) CI upper bound')\n",
        "plt.xlabel('Total observed Events')\n",
        "plt.ylabel('Lambda CI bound')\n",
        "plt.legend()\n",
        "plt.show()\n",
        "\n",
        "print(plotData)\n",
        "print(plotData.query('nSamples==13').lambdaMax.to_numpy()[0])"
      ],
      "execution_count": null,
      "outputs": [
        {
          "output_type": "stream",
          "text": [
            "(11, 3)\n"
          ],
          "name": "stdout"
        },
        {
          "output_type": "stream",
          "text": [
            "/usr/local/lib/python3.6/dist-packages/ipykernel_launcher.py:14: TqdmDeprecationWarning:\n",
            "\n",
            "This function will be removed in tqdm==5.0.0\n",
            "Please use `tqdm.notebook.tqdm` instead of `tqdm.tqdm_notebook`\n",
            "\n"
          ],
          "name": "stderr"
        },
        {
          "output_type": "display_data",
          "data": {
            "application/vnd.jupyter.widget-view+json": {
              "model_id": "69a42e30d78d4d5e8ebe9e8419b55959",
              "version_minor": 0,
              "version_major": 2
            },
            "text/plain": [
              "HBox(children=(FloatProgress(value=0.0, description='computing lambda grid', max=33.0, style=ProgressStyle(des…"
            ]
          },
          "metadata": {
            "tags": []
          }
        },
        {
          "output_type": "stream",
          "text": [
            "\n"
          ],
          "name": "stdout"
        },
        {
          "output_type": "display_data",
          "data": {
            "image/png": "[encoded data removed]",
            "text/plain": [
              "<Figure size 432x288 with 2 Axes>"
            ]
          },
          "metadata": {
            "tags": [],
            "needs_background": "light"
          }
        },
        {
          "output_type": "display_data",
          "data": {
            "image/png": "[encoded data removed]",
            "text/plain": [
              "<Figure size 432x288 with 1 Axes>"
            ]
          },
          "metadata": {
            "tags": [],
            "needs_background": "light"
          }
        },
        {
          "output_type": "display_data",
          "data": {
            "image/png": "[encoded data removed]",
            "text/plain": [
              "<Figure size 432x288 with 1 Axes>"
            ]
          },
          "metadata": {
            "tags": [],
            "needs_background": "light"
          }
        },
        {
          "output_type": "stream",
          "text": [
            "   nSamples  alpha  lambdaMax\n",
            "6        17   0.05   0.112984\n",
            "7        16   0.05   0.120046\n",
            "8        13   0.05   0.147748\n",
            "0.14774841618054324\n"
          ],
          "name": "stdout"
        }
      ]
    },
    {
      "cell_type": "code",
      "metadata": {
        "id": "ZL1I91DRqhBZ",
        "colab_type": "code",
        "colab": {
          "base_uri": "https://localhost:8080/",
          "height": 34
        },
        "outputId": "2e1981bf-a860-4bbe-b863-89f2068d9dd0"
      },
      "source": [
        "!pwd\n",
        "#worksheet = pd.read_csv('potTrans.csv')\n"
      ],
      "execution_count": 4,
      "outputs": [
        {
          "output_type": "stream",
          "text": [
            "/content\n"
          ],
          "name": "stdout"
        }
      ]
    },
    {
      "cell_type": "code",
      "metadata": {
        "id": "9SLkw5b0af3Z",
        "colab_type": "code",
        "colab": {}
      },
      "source": [
        "def lR_interval(X,alpha,verbose=False):\n",
        "  nX=len(X)\n",
        "  theta0=np.sum(X)*1.\n",
        "  l0=sp.stats.poisson.logpmf(theta0,theta0)\n",
        "  chiCut=sp.stats.chi2.ppf(1-alpha,1)\n",
        "  if theta0 > 0:\n",
        "    min_theta=sp.optimize.root(\n",
        "        lambda theta: 2*(l0-sp.stats.poisson.logpmf(theta0,*theta))-chiCut,\n",
        "        x0=[theta0/2.]).x[0]/nX\n",
        "  else:\n",
        "    min_theta=0\n",
        "  max_theta=sp.optimize.root(\n",
        "      lambda theta: 2*(l0-sp.stats.poisson.logpmf(theta0,*theta))-chiCut,\n",
        "      x0=[theta0*2.]).x[0]/nX\n",
        "  if verbose:\n",
        "    print('nX:',nX,'; theta0:',theta0,'; chiCut:',chiCut,'; l0:',l0)\n",
        "  return(min_theta,max_theta)\n"
      ],
      "execution_count": 5,
      "outputs": []
    },
    {
      "cell_type": "code",
      "metadata": {
        "colab_type": "code",
        "id": "xz_asO8KaiF1",
        "colab": {
          "base_uri": "https://localhost:8080/",
          "height": 119
        },
        "outputId": "564b89f5-adea-49e0-c3ff-3595f2c2f07b"
      },
      "source": [
        "#sampleSizes=np.arange(16)+1\n",
        "#alphaVals=np.array([.15,.1,.05,.025,.01,.005,.0025,.001,.0005,.00025,.0001])\n",
        "\n",
        "########## POT ions for PIEZO!!!!!!!!!!!!!!!\n",
        "nSdata={\n",
        "  'S1':np.array([16,13]), # -750mV\n",
        "  'S2':np.array([10,2]) , # -500mV\n",
        "  'S3':np.array([1,3]) , # -250mV\n",
        "  'S4':np.array([5,2]) , #  250mV\n",
        "  'S5':np.array([13,5]) , #  500mV\n",
        "  'S6':np.array([24,49])  #  750mV\n",
        "}\n",
        "# nSamples= number of trials\n",
        "\n",
        "aVal=0.15\n",
        "#print(sampleSizes)\n",
        "for sampleSizes in nSdata.keys():\n",
        "  #print(sampleSizes)\n",
        "  min,max=lR_interval(nSdata[sampleSizes],aVal)\n",
        "  print(min,max)\n"
      ],
      "execution_count": 8,
      "outputs": [
        {
          "output_type": "stream",
          "text": [
            "10.961345943790624 18.728856535096263\n",
            "3.8393955131812834 8.850033079326545\n",
            "0.8830725772847483 3.803735654415513\n",
            "1.924226420568271 5.764262725529932\n",
            "6.28145201514436 12.408416315094549\n",
            "30.690734779498005 42.99979773387892\n"
          ],
          "name": "stdout"
        }
      ]
    },
    {
      "cell_type": "code",
      "metadata": {
        "colab_type": "code",
        "id": "adGYe30zqhxy",
        "colab": {
          "base_uri": "https://localhost:8080/",
          "height": 119
        },
        "outputId": "119e4006-13af-40cf-d96f-c71166b5558d"
      },
      "source": [
        "#sampleSizes=np.arange(16)+1\n",
        "#alphaVals=np.array([.15,.1,.05,.025,.01,.005,.0025,.001,.0005,.00025,.0001])\n",
        "\n",
        "########## CLA ions for PIEZO!!!!!!!!!!!!!!!\n",
        "nSdata={\n",
        "  'S1':np.array([1,2]), # -750mV\n",
        "  'S2':np.array([2,0]) , # -500mV\n",
        "  'S3':np.array([0,0]) , # -250mV\n",
        "  'S4':np.array([5,3]) , #  250mV\n",
        "  'S5':np.array([7,2]) , #  500mV\n",
        "  'S6':np.array([22,41])  #  750mV\n",
        "}\n",
        "# nSamples= number of trials\n",
        "\n",
        "aVal=0.15\n",
        "#print(sampleSizes)\n",
        "for sampleSizes in nSdata.keys():\n",
        "  #print(sampleSizes)\n",
        "  min,max=lR_interval(nSdata[sampleSizes],aVal)\n",
        "  print(min,max)\n",
        "\n"
      ],
      "execution_count": 10,
      "outputs": [
        {
          "output_type": "stream",
          "text": [
            "0.5720366022560304 3.1134735535523554\n",
            "0.2940469777239198 2.3888926434129356\n",
            "0 0.5180627139555483\n",
            "2.2939013813859583 6.39486918623596\n",
            "2.6713613066070905 7.017628389871206\n",
            "26.12706425941389 37.56343370514196\n"
          ],
          "name": "stdout"
        }
      ]
    },
    {
      "cell_type": "code",
      "metadata": {
        "id": "is5QLq0CO2A4",
        "colab_type": "code",
        "colab": {
          "base_uri": "https://localhost:8080/",
          "height": 34
        },
        "outputId": "f0b3ede1-11d8-4ec8-b7a4-339f360ca40e"
      },
      "source": [
        "#sampleSizes=np.arange(16)+1\n",
        "#alphaVals=np.array([.15,.1,.05,.025,.01,.005,.0025,.001,.0005,.00025,.0001])\n",
        "\n",
        "########## POT ions for PIEZO!!!!!!!!!!!!!!!\n",
        "nSdata={\n",
        "  'S2':np.array([6,3,3]) , # -500mV\n",
        "}\n",
        "# nSamples= number of trials\n",
        "\n",
        "aVal=0.15\n",
        "#print(sampleSizes)\n",
        "for sampleSizes in nSdata.keys():\n",
        "  #print(sampleSizes)\n",
        "  min,max=lR_interval(nSdata[sampleSizes],aVal)\n",
        "  print(min,max)\n",
        "\n"
      ],
      "execution_count": 13,
      "outputs": [
        {
          "output_type": "stream",
          "text": [
            "2.5595970087875224 5.900022052884363\n"
          ],
          "name": "stdout"
        }
      ]
    },
    {
      "cell_type": "code",
      "metadata": {
        "id": "N48e87a6mKCt",
        "colab_type": "code",
        "colab": {
          "base_uri": "https://localhost:8080/",
          "height": 34
        },
        "outputId": "f8a55b16-a5dd-4755-fe9e-eb1871e96165"
      },
      "source": [
        "\n",
        "########## CLA ions for PIEZO!!!!!!!!!!!!!!!\n",
        "nSdata={\n",
        "  'S2':np.array([2,0,0]) , # -500mV\n",
        "}\n",
        "# nSamples= number of trials\n",
        "\n",
        "aVal=0.15\n",
        "#print(sampleSizes)\n",
        "for sampleSizes in nSdata.keys():\n",
        "  #print(sampleSizes)\n",
        "  min,max=lR_interval(nSdata[sampleSizes],aVal)\n",
        "  print(min,max)"
      ],
      "execution_count": 14,
      "outputs": [
        {
          "output_type": "stream",
          "text": [
            "0.1960313184826132 1.5925950956086237\n"
          ],
          "name": "stdout"
        }
      ]
    },
    {
      "cell_type": "code",
      "metadata": {
        "id": "9j-LRooVmXQ1",
        "colab_type": "code",
        "colab": {
          "base_uri": "https://localhost:8080/",
          "height": 34
        },
        "outputId": "5dc72613-6977-47a0-b95f-6599701e1abb"
      },
      "source": [
        "#sampleSizes=np.arange(16)+1\n",
        "#alphaVals=np.array([.15,.1,.05,.025,.01,.005,.0025,.001,.0005,.00025,.0001])\n",
        "\n",
        "########## POT ions for PIEZO!!!!!!!!!!!!!!!\n",
        "nSdata={\n",
        "  'S2':np.array([1,0]) , # -500mV\n",
        "}\n",
        "# nSamples= number of trials\n",
        "\n",
        "aVal=0.15\n",
        "#print(sampleSizes)\n",
        "for sampleSizes in nSdata.keys():\n",
        "  #print(sampleSizes)\n",
        "  min,max=lR_interval(nSdata[sampleSizes],aVal)\n",
        "  print(min,max)\n"
      ],
      "execution_count": 15,
      "outputs": [
        {
          "output_type": "stream",
          "text": [
            "0.25 1.5994735880595987\n"
          ],
          "name": "stdout"
        }
      ]
    },
    {
      "cell_type": "code",
      "metadata": {
        "id": "4YmE5FDBDQjI",
        "colab_type": "code",
        "colab": {}
      },
      "source": [
        ""
      ],
      "execution_count": null,
      "outputs": []
    }
  ]
}