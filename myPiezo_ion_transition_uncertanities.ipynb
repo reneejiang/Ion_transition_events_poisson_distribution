{
  "nbformat": 4,
  "nbformat_minor": 0,
  "metadata": {
    "colab": {
      "name": "myPiezo_ion_transition_uncertanities.ipynb",
      "provenance": [],
      "authorship_tag": "ABX9TyN3S2nTHUAbM+QozJ3HIFz1",
      "include_colab_link": true
    },
    "kernelspec": {
      "name": "python3",
      "display_name": "Python 3"
    }
  },
  "cells": [
    {
      "cell_type": "markdown",
      "metadata": {
        "id": "view-in-github",
        "colab_type": "text"
      },
      "source": [
        "<a href=\"https://colab.research.google.com/github/reneejiang/Ion_transition_events_poisson_distribution/blob/master/myPiezo_ion_transition_uncertanities.ipynb\" target=\"_parent\"><img src=\"https://colab.research.google.com/assets/colab-badge.svg\" alt=\"Open In Colab\"/></a>"
      ]
    },
    {
      "cell_type": "code",
      "metadata": {
        "id": "6dZczS8J3fjj",
        "colab_type": "code",
        "colab": {
          "base_uri": "https://localhost:8080/",
          "height": 51
        },
        "outputId": "464734da-240c-4323-fa75-93149eb6d72e"
      },
      "source": [
        "import numpy as np\n",
        "import scipy as sp\n",
        "import pandas as pd\n",
        "import matplotlib\n",
        "from matplotlib import pyplot as plt\n",
        "import seaborn as sns\n",
        "\n",
        "import sys\n",
        "import os\n",
        "import tqdm\n",
        "import gc\n",
        "import copy\n",
        "\n",
        "from collections import defaultdict\n",
        "import itertools\n",
        "\n",
        "import plotly as ply\n",
        "ply.io.renderers.default=\"notebook\"\n",
        "\n",
        "import ipywidgets as widgets\n",
        "from ipywidgets import interact\n",
        "\n",
        "import gspread\n",
        "import pandas as pd\n",
        "from google.colab import auth\n",
        "from oauth2client.client import GoogleCredentials\n",
        "\n",
        "import gspread\n",
        "import pandas as pd\n",
        "from google.colab import auth\n",
        "from oauth2client.client import GoogleCredentials"
      ],
      "execution_count": 1,
      "outputs": [
        {
          "output_type": "stream",
          "text": [
            "/usr/local/lib/python3.6/dist-packages/statsmodels/tools/_testing.py:19: FutureWarning: pandas.util.testing is deprecated. Use the functions in the public API at pandas.testing instead.\n",
            "  import pandas.util.testing as tm\n"
          ],
          "name": "stderr"
        }
      ]
    },
    {
      "cell_type": "code",
      "metadata": {
        "id": "9SLkw5b0af3Z",
        "colab_type": "code",
        "colab": {}
      },
      "source": [
        "def lR_interval(X,alpha,verbose=False):\n",
        "  nX=len(X)\n",
        "  theta0=np.sum(X)*1.\n",
        "  l0=sp.stats.poisson.logpmf(theta0,theta0)\n",
        "  chiCut=sp.stats.chi2.ppf(1-alpha,1)\n",
        "  if theta0 > 0:\n",
        "    min_theta=sp.optimize.root(\n",
        "        lambda theta: 2*(l0-sp.stats.poisson.logpmf(theta0,*theta))-chiCut,\n",
        "        x0=[theta0/2.]).x[0]/nX\n",
        "  else:\n",
        "    min_theta=0\n",
        "  max_theta=sp.optimize.root(\n",
        "      lambda theta: 2*(l0-sp.stats.poisson.logpmf(theta0,*theta))-chiCut,\n",
        "      x0=[theta0*2.]).x[0]/nX\n",
        "  if verbose:\n",
        "    print('nX:',nX,'; theta0:',theta0,'; chiCut:',chiCut,'; l0:',l0)\n",
        "  return(min_theta,max_theta)\n"
      ],
      "execution_count": 2,
      "outputs": []
    },
    {
      "cell_type": "code",
      "metadata": {
        "colab_type": "code",
        "id": "xz_asO8KaiF1",
        "colab": {
          "base_uri": "https://localhost:8080/",
          "height": 85
        },
        "outputId": "70413f5d-e735-404b-9037-8951ef027630"
      },
      "source": [
        "\n",
        "########## POT ions for WT PIEZO##########\n",
        "nSdata={\n",
        "  'S2':np.array([9]) , # -500mV\n",
        "  'S3':np.array([4]) , # -250mV\n",
        "  'S4':np.array([7]) , #  250mV\n",
        "  'S5':np.array([18])  #  500mV\n",
        "}\n",
        "# nSamples= number of trials\n",
        "\n",
        "aVal=0.15\n",
        "\n",
        "for sampleSizes in nSdata.keys():\n",
        "  #print(sampleSizes)\n",
        "  min,max=lR_interval(nSdata[sampleSizes],aVal)\n",
        "  print(min,max)\n",
        "\n",
        "#### Total time = 100ns ######"
      ],
      "execution_count": 4,
      "outputs": [
        {
          "output_type": "stream",
          "text": [
            "5.342722613214181 14.035256779742411\n",
            "1.7661451545694966 7.607471308831026\n",
            "3.848452841136542 11.528525451059863\n",
            "12.56290403028872 24.816832630189097\n"
          ],
          "name": "stdout"
        }
      ]
    },
    {
      "cell_type": "code",
      "metadata": {
        "colab_type": "code",
        "id": "adGYe30zqhxy",
        "colab": {
          "base_uri": "https://localhost:8080/",
          "height": 85
        },
        "outputId": "285bb66b-7488-464f-e9d3-3714f3f1df17"
      },
      "source": [
        "\n",
        "\n",
        "########## CLA ions for WT PIEZO ##########\n",
        "nSdata={\n",
        "  'S2':np.array([2]) , # -500mV\n",
        "  'S3':np.array([0]) , # -250mV\n",
        "  'S4':np.array([8]) , #  250mV\n",
        "  'S5':np.array([9])   #  500mV\n",
        "}\n",
        "# nSamples= number of trials\n",
        "\n",
        "aVal=0.15\n",
        "\n",
        "for sampleSizes in nSdata.keys():\n",
        "  #print(sampleSizes)\n",
        "  min,max=lR_interval(nSdata[sampleSizes],aVal)\n",
        "  print(min,max)\n",
        "\n",
        "#### Total time = 100ns ######\n"
      ],
      "execution_count": 5,
      "outputs": [
        {
          "output_type": "stream",
          "text": [
            "0.5880939554478396 4.777785286825871\n",
            "0 1.0361254279110965\n",
            "4.587802762771917 12.78973837247192\n",
            "5.342722613214181 14.035256779742411\n"
          ],
          "name": "stdout"
        }
      ]
    },
    {
      "cell_type": "code",
      "metadata": {
        "id": "is5QLq0CO2A4",
        "colab_type": "code",
        "colab": {
          "base_uri": "https://localhost:8080/",
          "height": 34
        },
        "outputId": "7d60b591-63f6-43e2-9ccb-e9a0a5abb362"
      },
      "source": [
        "\n",
        "########## POT ions for Mutant E2133 nocharge PIEZO##########\n",
        "nSdata={\n",
        "     'S2':np.array([12]) , # -500mV mutant\n",
        "}\n",
        "\n",
        "# nSamples= number of trials\n",
        "\n",
        "aVal=0.15\n",
        "\n",
        "for sampleSizes in nSdata.keys():\n",
        "  #print(sampleSizes)\n",
        "  min,max=lR_interval(nSdata[sampleSizes],aVal)\n",
        "  print(min,max)\n",
        "\n",
        "\n",
        "#### Total time = 150ns ######"
      ],
      "execution_count": 6,
      "outputs": [
        {
          "output_type": "stream",
          "text": [
            "7.678791026362567 17.70006615865309\n"
          ],
          "name": "stdout"
        }
      ]
    },
    {
      "cell_type": "code",
      "metadata": {
        "id": "N48e87a6mKCt",
        "colab_type": "code",
        "colab": {
          "base_uri": "https://localhost:8080/",
          "height": 34
        },
        "outputId": "c144c01f-47e7-4e82-d21b-0ff798a4206a"
      },
      "source": [
        "\n",
        "########## CLA ions for Mutant E2133 nocharge PIEZO##########\n",
        "nSdata={\n",
        "  'S2':np.array([2]) , # -500mV mutant\n",
        "}\n",
        "# nSamples= number of trials\n",
        "\n",
        "aVal=0.15\n",
        "\n",
        "for sampleSizes in nSdata.keys():\n",
        "  #print(sampleSizes)\n",
        "  min,max=lR_interval(nSdata[sampleSizes],aVal)\n",
        "  print(min,max)\n",
        "\n",
        "  \n",
        "#### Total time = 150ns ######"
      ],
      "execution_count": 11,
      "outputs": [
        {
          "output_type": "stream",
          "text": [
            "0.5880939554478396 4.777785286825871\n"
          ],
          "name": "stdout"
        }
      ]
    },
    {
      "cell_type": "code",
      "metadata": {
        "id": "9j-LRooVmXQ1",
        "colab_type": "code",
        "colab": {
          "base_uri": "https://localhost:8080/",
          "height": 34
        },
        "outputId": "de39bbaa-06dd-4006-81a6-71ee11db07f4"
      },
      "source": [
        "\n",
        "########## POT ions for WT PIEZO##########\n",
        "nSdata={\n",
        "  'S2':np.array([9]) , # -500mV WT\n",
        "}\n",
        "# nSamples= number of trials\n",
        "\n",
        "aVal=0.15\n",
        "\n",
        "for sampleSizes in nSdata.keys():\n",
        "  #print(sampleSizes)\n",
        "  min,max=lR_interval(nSdata[sampleSizes],aVal)\n",
        "  print(min,max)\n",
        "\n",
        "  \n",
        "#### Total time = 100ns ######\n"
      ],
      "execution_count": 9,
      "outputs": [
        {
          "output_type": "stream",
          "text": [
            "5.342722613214181 14.035256779742411\n"
          ],
          "name": "stdout"
        }
      ]
    },
    {
      "cell_type": "code",
      "metadata": {
        "id": "yUubYykpjjmK",
        "colab_type": "code",
        "colab": {
          "base_uri": "https://localhost:8080/",
          "height": 34
        },
        "outputId": "0e90c02f-3c04-4c89-b88e-fc6dfec5ecfc"
      },
      "source": [
        "\n",
        "########## CLA ions for WT PIEZO##########\n",
        "nSdata={\n",
        "  'S2':np.array([2])  # -500mV\n",
        "}\n",
        "# nSamples= number of trials\n",
        "\n",
        "aVal=0.15\n",
        "\n",
        "for sampleSizes in nSdata.keys():\n",
        "  #print(sampleSizes)\n",
        "  min,max=lR_interval(nSdata[sampleSizes],aVal)\n",
        "  print(min,max)\n",
        "\n",
        "  \n",
        "#### Total time = 100ns ######"
      ],
      "execution_count": 10,
      "outputs": [
        {
          "output_type": "stream",
          "text": [
            "0.5880939554478396 4.777785286825871\n"
          ],
          "name": "stdout"
        }
      ]
    },
    {
      "cell_type": "code",
      "metadata": {
        "id": "lsORsEfSjtUC",
        "colab_type": "code",
        "colab": {}
      },
      "source": [
        ""
      ],
      "execution_count": null,
      "outputs": []
    }
  ]
}